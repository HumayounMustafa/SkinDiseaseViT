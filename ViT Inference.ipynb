{
 "cells": [
  {
   "cell_type": "markdown",
   "metadata": {},
   "source": [
    "## ViT Inference"
   ]
  },
  {
   "cell_type": "code",
   "execution_count": 1,
   "metadata": {},
   "outputs": [],
   "source": [
    "from transformers import ViTForImageClassification,ViTImageProcessor\n",
    "import torch\n",
    "from PIL import Image\n",
    "model = ViTForImageClassification.from_pretrained('ViTModel')\n",
    "processor = ViTImageProcessor.from_pretrained(\"google/vit-base-patch16-224-in21k\")"
   ]
  },
  {
   "cell_type": "code",
   "execution_count": 7,
   "metadata": {},
   "outputs": [
    {
     "name": "stdout",
     "output_type": "stream",
     "text": [
      "Predicted label: Seborrheic Keratoses\n"
     ]
    }
   ],
   "source": [
    "# Switch model to evaluation mode for inference\n",
    "model.eval()\n",
    "\n",
    "# Function to preprocess the image using ViTImageProcessor\n",
    "def preprocess_image(image_path):\n",
    "    image = Image.open(image_path).convert(\"RGB\")\n",
    "    pixel_values = processor(image, return_tensors=\"pt\").pixel_values  # Preprocess image using processor\n",
    "    return pixel_values\n",
    "\n",
    "# Define a function for making predictions\n",
    "def predict(image_path):\n",
    "    pixel_values = preprocess_image(image_path)\n",
    "    \n",
    "    # Run inference with torch.no_grad to avoid backpropagation\n",
    "    with torch.no_grad():\n",
    "        outputs = model(pixel_values)\n",
    "        logits = outputs.logits\n",
    "\n",
    "    # Get predicted label\n",
    "    predicted_class_idx = logits.argmax(-1).item()\n",
    "    predicted_label = model.config.id2label[predicted_class_idx]\n",
    "    \n",
    "    return predicted_label\n",
    "\n",
    "# Example of inference\n",
    "image_path = \"Images/images.jpeg\"  # Replace with the path to your image\n",
    "predicted_label = predict(image_path)\n",
    "print(f\"Predicted label: {predicted_label}\")"
   ]
  },
  {
   "cell_type": "code",
   "execution_count": null,
   "metadata": {},
   "outputs": [],
   "source": []
  }
 ],
 "metadata": {
  "kernelspec": {
   "display_name": "base",
   "language": "python",
   "name": "python3"
  },
  "language_info": {
   "codemirror_mode": {
    "name": "ipython",
    "version": 3
   },
   "file_extension": ".py",
   "mimetype": "text/x-python",
   "name": "python",
   "nbconvert_exporter": "python",
   "pygments_lexer": "ipython3",
   "version": "3.11.7"
  }
 },
 "nbformat": 4,
 "nbformat_minor": 2
}
